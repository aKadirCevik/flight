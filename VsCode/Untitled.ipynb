{
 "cells": [
  {
   "cell_type": "code",
   "execution_count": 1,
   "id": "9ccb80bc",
   "metadata": {},
   "outputs": [],
   "source": [
    "        attack_values = [[0.05, -0.0002, -10],\n",
    "                         [0.01, -0.003, 20],\n",
    "                         [0.07, -0.05, -50],\n",
    "                         [0.004, -0.06, 50],\n",
    "                         [0.00009, -0.007, -25],\n",
    "                         [0.04, -0.008, 29]]"
   ]
  },
  {
   "cell_type": "code",
   "execution_count": 5,
   "id": "e3714b94",
   "metadata": {},
   "outputs": [
    {
     "data": {
      "text/plain": [
       "-0.0002"
      ]
     },
     "execution_count": 5,
     "metadata": {},
     "output_type": "execute_result"
    }
   ],
   "source": [
    "attack_values[0][1]"
   ]
  },
  {
   "cell_type": "code",
   "execution_count": 12,
   "id": "71631d8f",
   "metadata": {},
   "outputs": [
    {
     "data": {
      "text/plain": [
       "5"
      ]
     },
     "execution_count": 12,
     "metadata": {},
     "output_type": "execute_result"
    }
   ],
   "source": [
    "import random as rnd\n",
    "\n",
    "rnd.randint(0, 5)"
   ]
  },
  {
   "cell_type": "code",
   "execution_count": null,
   "id": "dd692594",
   "metadata": {},
   "outputs": [],
   "source": []
  },
  {
   "cell_type": "code",
   "execution_count": null,
   "id": "ba63345d",
   "metadata": {},
   "outputs": [],
   "source": []
  }
 ],
 "metadata": {
  "kernelspec": {
   "display_name": "Python 3 (ipykernel)",
   "language": "python",
   "name": "python3"
  },
  "language_info": {
   "codemirror_mode": {
    "name": "ipython",
    "version": 3
   },
   "file_extension": ".py",
   "mimetype": "text/x-python",
   "name": "python",
   "nbconvert_exporter": "python",
   "pygments_lexer": "ipython3",
   "version": "3.10.1"
  }
 },
 "nbformat": 4,
 "nbformat_minor": 5
}
