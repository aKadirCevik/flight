{
 "cells": [
  {
   "cell_type": "code",
   "execution_count": null,
   "id": "fb8f8436",
   "metadata": {},
   "outputs": [],
   "source": [
    "# Book\n",
    "# https://github.com/junzis/the-1090mhz-riddle/blob/master/README.md\n",
    "# https://books.open.tudelft.nl/home/catalog/view/11/14/69-1"
   ]
  }
 ],
 "metadata": {
  "kernelspec": {
   "display_name": "Python 3 (ipykernel)",
   "language": "python",
   "name": "python3"
  },
  "language_info": {
   "codemirror_mode": {
    "name": "ipython",
    "version": 3
   },
   "file_extension": ".py",
   "mimetype": "text/x-python",
   "name": "python",
   "nbconvert_exporter": "python",
   "pygments_lexer": "ipython3",
   "version": "3.10.0"
  }
 },
 "nbformat": 4,
 "nbformat_minor": 5
}
