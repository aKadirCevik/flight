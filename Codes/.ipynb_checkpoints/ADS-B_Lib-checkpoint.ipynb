{
 "cells": [
  {
   "cell_type": "code",
   "execution_count": 1,
   "id": "123402fc",
   "metadata": {},
   "outputs": [],
   "source": [
    "import pyModeS as pms\n",
    "import pandas as pd"
   ]
  },
  {
   "cell_type": "markdown",
   "id": "eb990151",
   "metadata": {},
   "source": [
    "# Common Functions"
   ]
  },
  {
   "cell_type": "raw",
   "id": "6c9b8ecb",
   "metadata": {},
   "source": [
    "pms.df(msg)                 # Downlink Format\n",
    "pms.icao(msg)               # Infer the ICAO address from the message\n",
    "pms.crc(msg, encode=False)  # Perform CRC or generate parity bit\n",
    "\n",
    "pms.hex2bin(str)      # Convert hexadecimal string to binary string\n",
    "pms.bin2int(str)      # Convert binary string to integer\n",
    "pms.hex2int(str)      # Convert hexadecimal string to integer\n",
    "pms.gray2int(str)     # Convert grey code to integer"
   ]
  },
  {
   "cell_type": "code",
   "execution_count": 11,
   "id": "d768071e",
   "metadata": {},
   "outputs": [],
   "source": [
    "# RAW DATA İLE ÇALIŞAN KÜTÜPHANE\n",
    "# https://github.com/junzis/pyModeS\n",
    "# KÜTÜPHANENİN DETAYLI BU ADRESTE"
   ]
  },
  {
   "cell_type": "code",
   "execution_count": null,
   "id": "f9728e96",
   "metadata": {},
   "outputs": [],
   "source": []
  }
 ],
 "metadata": {
  "kernelspec": {
   "display_name": "Python 3 (ipykernel)",
   "language": "python",
   "name": "python3"
  },
  "language_info": {
   "codemirror_mode": {
    "name": "ipython",
    "version": 3
   },
   "file_extension": ".py",
   "mimetype": "text/x-python",
   "name": "python",
   "nbconvert_exporter": "python",
   "pygments_lexer": "ipython3",
   "version": "3.10.0"
  }
 },
 "nbformat": 4,
 "nbformat_minor": 5
}
