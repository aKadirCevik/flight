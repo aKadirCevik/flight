{
 "cells": [
  {
   "cell_type": "code",
   "execution_count": null,
   "id": "a6d40ef8",
   "metadata": {},
   "outputs": [],
   "source": [
    "# https://openskynetwork.github.io/opensky-api/python.html\n",
    "from opensky_api import OpenSkyApi\n",
    "\n",
    "api = OpenSkyApi()\n",
    "states = api.get_states()\n",
    "for s in states.states:\n",
    "    print(\"(%r, %r, %r, %r)\" % (s.longitude, s.latitude, s.baro_altitude, s.velocity))"
   ]
  },
  {
   "cell_type": "code",
   "execution_count": null,
   "id": "baded3c6",
   "metadata": {},
   "outputs": [],
   "source": [
    "from opensky_api import OpenSkyApi\n",
    "\n",
    "api = OpenSkyApi(USERNAME, PASSWORD)\n",
    "states = api.get_my_states()\n",
    "print(states)\n",
    "for s in states.states:\n",
    "    print(s.sensors)"
   ]
  },
  {
   "cell_type": "code",
   "execution_count": null,
   "id": "178744c7",
   "metadata": {},
   "outputs": [],
   "source": [
    "from opensky_api import OpenSkyApi\n",
    "\n",
    "api = OpenSkyApi()\n",
    "# bbox = (min latitude, max latitude, min longitude, max longitude)\n",
    "states = api.get_states(bbox=(45.8389, 47.8229, 5.9962, 10.5226))\n",
    "for s in states.states:\n",
    "    print(\"(%r, %r, %r, %r)\" % (s.longitude, s.latitude, s.baro_altitude, s.velocity))"
   ]
  }
 ],
 "metadata": {
  "kernelspec": {
   "display_name": "Python 3 (ipykernel)",
   "language": "python",
   "name": "python3"
  },
  "language_info": {
   "codemirror_mode": {
    "name": "ipython",
    "version": 3
   },
   "file_extension": ".py",
   "mimetype": "text/x-python",
   "name": "python",
   "nbconvert_exporter": "python",
   "pygments_lexer": "ipython3",
   "version": "3.10.0"
  }
 },
 "nbformat": 4,
 "nbformat_minor": 5
}
